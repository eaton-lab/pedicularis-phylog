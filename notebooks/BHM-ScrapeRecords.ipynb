{
 "cells": [
  {
   "cell_type": "markdown",
   "id": "bdbda201-9294-420c-8efb-2311057404d2",
   "metadata": {},
   "source": [
    "# Fetch data from Biodiversity of Hengduan Mountains\n",
    "Get all Pedicularis records from [Biodiversity of the Hengduan Mountains](https://www.hengduan-biodiversity.net/). We have to scrape this site because it doesn't have an API.\n",
    "\n",
    "Creates a file called \"../data/fieldnotes/bhm.net-Pedicularis.csv\" containing Name, Latitude, and Longitude"
   ]
  },
  {
   "cell_type": "code",
   "execution_count": 1,
   "id": "d04595c1-f098-4eda-a62a-703e1dfe7312",
   "metadata": {},
   "outputs": [],
   "source": [
    "import pandas as pd\n",
    "import requests\n",
    "from bs4 import BeautifulSoup"
   ]
  },
  {
   "cell_type": "markdown",
   "id": "e6abda65-9ffd-4594-b0d5-37a41c31bcd2",
   "metadata": {},
   "source": [
    "## Fetch the search results for 'Pedicularis' (~2300)"
   ]
  },
  {
   "cell_type": "code",
   "execution_count": 2,
   "id": "64a1b13b-9303-4502-98fa-dc0b0fab398b",
   "metadata": {},
   "outputs": [],
   "source": [
    "searchurl = \"https://www.hengduan-biodiversity.net/fieldnotes/specimens/search/search.zpt?st=Pedicularis&action=search&submit_button=Search\"\n",
    "res = requests.get(url=searchurl).text\n",
    "soup = BeautifulSoup(res, 'html.parser')"
   ]
  },
  {
   "cell_type": "code",
   "execution_count": 85,
   "id": "07b0ffa8-8af2-4fd0-9a8d-9478bc8f020f",
   "metadata": {
    "scrolled": true
   },
   "outputs": [],
   "source": [
    "# Get the element with 'id' for the results table\n",
    "t = soup.find(id=\"angio_table\")\n",
    "\n",
    "# Find all table row elements and extract a few of the cells\n",
    "rows = []\n",
    "for tr in t.find_all(\"tr\")[:]:\n",
    "    cells = []\n",
    "    for td in tr.find_all(['td', 'th']):\n",
    "        # If there's a link, get both text and href\n",
    "        a = td.find_all('a')\n",
    "        if len(a): a = a[-1]\n",
    "        else: continue\n",
    "        #print(a)\n",
    "        if a:\n",
    "            if a.has_attr('onclick'): cells.append(a['onclick'].split(\"'\")[1])\n",
    "            else:\n",
    "                try:\n",
    "                    cells.append(a.text)\n",
    "                    cells.append(a['href'])\n",
    "                except:\n",
    "                    pass\n",
    "        else:\n",
    "            cells.append(td.text)\n",
    "    rows.append(cells)"
   ]
  },
  {
   "cell_type": "code",
   "execution_count": 90,
   "id": "51042bc1-d8ff-4e31-b406-fcee80e79061",
   "metadata": {},
   "outputs": [
    {
     "data": {
      "text/html": [
       "<div>\n",
       "<style scoped>\n",
       "    .dataframe tbody tr th:only-of-type {\n",
       "        vertical-align: middle;\n",
       "    }\n",
       "\n",
       "    .dataframe tbody tr th {\n",
       "        vertical-align: top;\n",
       "    }\n",
       "\n",
       "    .dataframe thead th {\n",
       "        text-align: right;\n",
       "    }\n",
       "</style>\n",
       "<table border=\"1\" class=\"dataframe\">\n",
       "  <thead>\n",
       "    <tr style=\"text-align: right;\">\n",
       "      <th></th>\n",
       "      <th>Family</th>\n",
       "      <th>Binomial</th>\n",
       "      <th>Coll. No.</th>\n",
       "      <th>Link</th>\n",
       "    </tr>\n",
       "  </thead>\n",
       "  <tbody>\n",
       "    <tr>\n",
       "      <th>2355</th>\n",
       "      <td>Orobanchaceae</td>\n",
       "      <td>Pedicularis verticillata</td>\n",
       "      <td>JJ128</td>\n",
       "      <td>specimen_detail.zpt?specimen_id=124703</td>\n",
       "    </tr>\n",
       "    <tr>\n",
       "      <th>2356</th>\n",
       "      <td>Orobanchaceae</td>\n",
       "      <td>Pedicularis verticillata</td>\n",
       "      <td>46415</td>\n",
       "      <td>specimen_detail.zpt?specimen_id=123584</td>\n",
       "    </tr>\n",
       "    <tr>\n",
       "      <th>2357</th>\n",
       "      <td>Orobanchaceae</td>\n",
       "      <td>Pedicularis vialii</td>\n",
       "      <td>26759</td>\n",
       "      <td>specimen_detail.zpt?specimen_id=84070</td>\n",
       "    </tr>\n",
       "    <tr>\n",
       "      <th>2358</th>\n",
       "      <td>Orobanchaceae</td>\n",
       "      <td>Pedicularis yunnanensis</td>\n",
       "      <td>1054</td>\n",
       "      <td>specimen_detail.zpt?specimen_id=14253</td>\n",
       "    </tr>\n",
       "    <tr>\n",
       "      <th>2359</th>\n",
       "      <td>Orobanchaceae</td>\n",
       "      <td>Pedicularis zayuensis</td>\n",
       "      <td>44551</td>\n",
       "      <td>specimen_detail.zpt?specimen_id=121194</td>\n",
       "    </tr>\n",
       "  </tbody>\n",
       "</table>\n",
       "</div>"
      ],
      "text/plain": [
       "             Family                  Binomial Coll. No.  \\\n",
       "2355  Orobanchaceae  Pedicularis verticillata     JJ128   \n",
       "2356  Orobanchaceae  Pedicularis verticillata     46415   \n",
       "2357  Orobanchaceae        Pedicularis vialii     26759   \n",
       "2358  Orobanchaceae   Pedicularis yunnanensis      1054   \n",
       "2359  Orobanchaceae     Pedicularis zayuensis     44551   \n",
       "\n",
       "                                        Link  \n",
       "2355  specimen_detail.zpt?specimen_id=124703  \n",
       "2356  specimen_detail.zpt?specimen_id=123584  \n",
       "2357   specimen_detail.zpt?specimen_id=84070  \n",
       "2358   specimen_detail.zpt?specimen_id=14253  \n",
       "2359  specimen_detail.zpt?specimen_id=121194  "
      ]
     },
     "execution_count": 90,
     "metadata": {},
     "output_type": "execute_result"
    }
   ],
   "source": [
    "# Format results as dataframe\n",
    "search_results = pd.DataFrame(rows[1:], columns=['Family', 'Binomial', 'Coll. No.', 'Link'])\n",
    "search_results.tail()"
   ]
  },
  {
   "cell_type": "markdown",
   "id": "c32aa4c9-8842-43a7-b3ed-2bea05e2723b",
   "metadata": {},
   "source": [
    "## Get latlong from specimen records\n",
    "\n",
    "Each specimen record has a `div` with id='locality' that contains a text description of the site including degree/minute/second coordinates. There are also hidden `input` tags with the decimal degree latitude/longitudes which are more convenient. Elevation needs to be parsed from the text directly."
   ]
  },
  {
   "cell_type": "code",
   "execution_count": null,
   "id": "2295f453-d4b5-46b5-bcbd-e7e186bce6ec",
   "metadata": {
    "scrolled": true
   },
   "outputs": [],
   "source": [
    "## This cell takes a while to run (several minutes)\n",
    "specimen_urlbase = \"https://www.hengduan-biodiversity.net/fieldnotes/specimens/search/\"\n",
    "\n",
    "sp_dat = {\"lat\":[], \"long\":[], \"elev\":[]}\n",
    "\n",
    "for idx in search_results.index:\n",
    "    specimen_url = specimen_urlbase + search_results[\"Link\"][idx]\n",
    "    res = requests.get(url=specimen_url).text\n",
    "    soup = BeautifulSoup(res, 'html.parser')\n",
    "    sp_dat[\"lat\"].append(soup.find(id=\"latitude\").get(\"value\"))\n",
    "    sp_dat[\"long\"].append(soup.find(id=\"longitude\").get(\"value\"))\n",
    "    # This is hackish. Locality text is inside a <td> with this exact styling, which is the only instance on the page.\n",
    "    elev = soup.find(style=\"padding:0.25em\")\n",
    "    # The elevation is always in the last line of the locality info\n",
    "    sp_dat[\"elev\"].append(elev.contents[-1])\n",
    "\n",
    "len(sp_dat)"
   ]
  },
  {
   "cell_type": "markdown",
   "id": "014b0fb8-6008-4568-b9e7-b6113985b9cd",
   "metadata": {},
   "source": [
    "## Merge locality info with search results and parse/format lat/long/elev\n",
    "The lat/long values can be cast to float directly. Elevation values have a bunch of text to \n",
    "parse around them (including nbsp which is the \\xa0 in the first split)."
   ]
  },
  {
   "cell_type": "code",
   "execution_count": 189,
   "id": "dcafb52e-5076-475a-8e62-8b3037af2924",
   "metadata": {},
   "outputs": [
    {
     "name": "stdout",
     "output_type": "stream",
     "text": [
      "Removing # samples w/ no latlong: 1\n",
      "Removed samples w/o species id: 208\n",
      "Removed Eaton Lab samples: 858\n"
     ]
    },
    {
     "data": {
      "text/html": [
       "<div>\n",
       "<style scoped>\n",
       "    .dataframe tbody tr th:only-of-type {\n",
       "        vertical-align: middle;\n",
       "    }\n",
       "\n",
       "    .dataframe tbody tr th {\n",
       "        vertical-align: top;\n",
       "    }\n",
       "\n",
       "    .dataframe thead th {\n",
       "        text-align: right;\n",
       "    }\n",
       "</style>\n",
       "<table border=\"1\" class=\"dataframe\">\n",
       "  <thead>\n",
       "    <tr style=\"text-align: right;\">\n",
       "      <th></th>\n",
       "      <th>Family</th>\n",
       "      <th>Binomial</th>\n",
       "      <th>Coll. No.</th>\n",
       "      <th>Link</th>\n",
       "      <th>lat</th>\n",
       "      <th>long</th>\n",
       "      <th>elev</th>\n",
       "    </tr>\n",
       "  </thead>\n",
       "  <tbody>\n",
       "    <tr>\n",
       "      <th>203</th>\n",
       "      <td>Orobanchaceae</td>\n",
       "      <td>Pedicularis_alaschanica</td>\n",
       "      <td>67</td>\n",
       "      <td>specimen_detail.zpt?specimen_id=9226</td>\n",
       "      <td>34.683333</td>\n",
       "      <td>100.683333</td>\n",
       "      <td>3200</td>\n",
       "    </tr>\n",
       "    <tr>\n",
       "      <th>204</th>\n",
       "      <td>Orobanchaceae</td>\n",
       "      <td>Pedicularis_alaschanica</td>\n",
       "      <td>301</td>\n",
       "      <td>specimen_detail.zpt?specimen_id=9461</td>\n",
       "      <td>34.676667</td>\n",
       "      <td>100.643333</td>\n",
       "      <td>3160</td>\n",
       "    </tr>\n",
       "    <tr>\n",
       "      <th>205</th>\n",
       "      <td>Orobanchaceae</td>\n",
       "      <td>Pedicularis_alaschanica</td>\n",
       "      <td>620</td>\n",
       "      <td>specimen_detail.zpt?specimen_id=9780</td>\n",
       "      <td>34.707778</td>\n",
       "      <td>100.244167</td>\n",
       "      <td>3500</td>\n",
       "    </tr>\n",
       "    <tr>\n",
       "      <th>206</th>\n",
       "      <td>Orobanchaceae</td>\n",
       "      <td>Pedicularis_alaschanica</td>\n",
       "      <td>1103</td>\n",
       "      <td>specimen_detail.zpt?specimen_id=10265</td>\n",
       "      <td>33.727778</td>\n",
       "      <td>99.350278</td>\n",
       "      <td>4040</td>\n",
       "    </tr>\n",
       "    <tr>\n",
       "      <th>207</th>\n",
       "      <td>Orobanchaceae</td>\n",
       "      <td>Pedicularis_alaschanica</td>\n",
       "      <td>1144</td>\n",
       "      <td>specimen_detail.zpt?specimen_id=10305</td>\n",
       "      <td>33.727778</td>\n",
       "      <td>99.350278</td>\n",
       "      <td>4040</td>\n",
       "    </tr>\n",
       "    <tr>\n",
       "      <th>...</th>\n",
       "      <td>...</td>\n",
       "      <td>...</td>\n",
       "      <td>...</td>\n",
       "      <td>...</td>\n",
       "      <td>...</td>\n",
       "      <td>...</td>\n",
       "      <td>...</td>\n",
       "    </tr>\n",
       "    <tr>\n",
       "      <th>2345</th>\n",
       "      <td>Orobanchaceae</td>\n",
       "      <td>Pedicularis_verticillata</td>\n",
       "      <td>44792</td>\n",
       "      <td>specimen_detail.zpt?specimen_id=121437</td>\n",
       "      <td>33.127222</td>\n",
       "      <td>97.488611</td>\n",
       "      <td>4700</td>\n",
       "    </tr>\n",
       "    <tr>\n",
       "      <th>2356</th>\n",
       "      <td>Orobanchaceae</td>\n",
       "      <td>Pedicularis_verticillata</td>\n",
       "      <td>46415</td>\n",
       "      <td>specimen_detail.zpt?specimen_id=123584</td>\n",
       "      <td>28.073333</td>\n",
       "      <td>98.760833</td>\n",
       "      <td>3950</td>\n",
       "    </tr>\n",
       "    <tr>\n",
       "      <th>2357</th>\n",
       "      <td>Orobanchaceae</td>\n",
       "      <td>Pedicularis_vialii</td>\n",
       "      <td>26759</td>\n",
       "      <td>specimen_detail.zpt?specimen_id=84070</td>\n",
       "      <td>27.182500</td>\n",
       "      <td>98.720278</td>\n",
       "      <td>3050</td>\n",
       "    </tr>\n",
       "    <tr>\n",
       "      <th>2358</th>\n",
       "      <td>Orobanchaceae</td>\n",
       "      <td>Pedicularis_yunnanensis</td>\n",
       "      <td>1054</td>\n",
       "      <td>specimen_detail.zpt?specimen_id=14253</td>\n",
       "      <td>25.700000</td>\n",
       "      <td>100.083333</td>\n",
       "      <td>3900</td>\n",
       "    </tr>\n",
       "    <tr>\n",
       "      <th>2359</th>\n",
       "      <td>Orobanchaceae</td>\n",
       "      <td>Pedicularis_zayuensis</td>\n",
       "      <td>44551</td>\n",
       "      <td>specimen_detail.zpt?specimen_id=121194</td>\n",
       "      <td>32.918889</td>\n",
       "      <td>97.327222</td>\n",
       "      <td>3550</td>\n",
       "    </tr>\n",
       "  </tbody>\n",
       "</table>\n",
       "<p>1293 rows × 7 columns</p>\n",
       "</div>"
      ],
      "text/plain": [
       "             Family                  Binomial Coll. No.  \\\n",
       "203   Orobanchaceae   Pedicularis_alaschanica        67   \n",
       "204   Orobanchaceae   Pedicularis_alaschanica       301   \n",
       "205   Orobanchaceae   Pedicularis_alaschanica       620   \n",
       "206   Orobanchaceae   Pedicularis_alaschanica      1103   \n",
       "207   Orobanchaceae   Pedicularis_alaschanica      1144   \n",
       "...             ...                       ...       ...   \n",
       "2345  Orobanchaceae  Pedicularis_verticillata     44792   \n",
       "2356  Orobanchaceae  Pedicularis_verticillata     46415   \n",
       "2357  Orobanchaceae        Pedicularis_vialii     26759   \n",
       "2358  Orobanchaceae   Pedicularis_yunnanensis      1054   \n",
       "2359  Orobanchaceae     Pedicularis_zayuensis     44551   \n",
       "\n",
       "                                        Link        lat        long  elev  \n",
       "203     specimen_detail.zpt?specimen_id=9226  34.683333  100.683333  3200  \n",
       "204     specimen_detail.zpt?specimen_id=9461  34.676667  100.643333  3160  \n",
       "205     specimen_detail.zpt?specimen_id=9780  34.707778  100.244167  3500  \n",
       "206    specimen_detail.zpt?specimen_id=10265  33.727778   99.350278  4040  \n",
       "207    specimen_detail.zpt?specimen_id=10305  33.727778   99.350278  4040  \n",
       "...                                      ...        ...         ...   ...  \n",
       "2345  specimen_detail.zpt?specimen_id=121437  33.127222   97.488611  4700  \n",
       "2356  specimen_detail.zpt?specimen_id=123584  28.073333   98.760833  3950  \n",
       "2357   specimen_detail.zpt?specimen_id=84070  27.182500   98.720278  3050  \n",
       "2358   specimen_detail.zpt?specimen_id=14253  25.700000  100.083333  3900  \n",
       "2359  specimen_detail.zpt?specimen_id=121194  32.918889   97.327222  3550  \n",
       "\n",
       "[1293 rows x 7 columns]"
      ]
     },
     "execution_count": 189,
     "metadata": {},
     "output_type": "execute_result"
    }
   ],
   "source": [
    "bhm_df = pd.concat([search_results,\n",
    "           pd.DataFrame(sp_dat)], axis=1)\n",
    "bhm_df[\"lat\"] = bhm_df[\"lat\"].astype(float)\n",
    "bhm_df[\"long\"] = bhm_df[\"long\"].astype(float)\n",
    "\n",
    "# Clean text from edges of the elevation info\n",
    "bhm_df[\"elev\"] = bhm_df[\"elev\"].apply(lambda x: x.split(\"\\xa0m\")[0].split(\" \")[-1])\n",
    "mask = bhm_df[\"elev\"] == ''\n",
    "\n",
    "print(f\"Removing # samples w/ no latlong: {sum(mask)}\")\n",
    "bhm_df = bhm_df[~mask]\n",
    "bhm_df[\"elev\"] = bhm_df[\"elev\"].astype(int)\n",
    "\n",
    "mask = bhm_df[\"Binomial\"].str.endswith(('sp', 'None'))\n",
    "bhm_df = bhm_df[~mask]\n",
    "print(f\"Removed samples w/o species id: {sum(mask)}\")\n",
    "\n",
    "mask = bhm_df[\"Coll. No.\"].str.startswith(('DE', 'JJ'))\n",
    "bhm_df = bhm_df[~mask]\n",
    "print(f\"Removed Eaton Lab samples: {sum(mask)}\")\n",
    "\n",
    "# Clean names, underscore between genus & species, and remove subspecies identifiers\n",
    "bhm_df[\"Binomial\"] = bhm_df[\"Binomial\"].str.replace(\" \", \"_\", 1)\n",
    "bhm_df[\"Binomial\"] = bhm_df[\"Binomial\"].str.split(\" \").str[0]\n",
    "bhm_df"
   ]
  },
  {
   "cell_type": "markdown",
   "id": "fb076f0a-5186-4565-8e0f-0af954154c9c",
   "metadata": {},
   "source": [
    "### Check names"
   ]
  },
  {
   "cell_type": "code",
   "execution_count": 182,
   "id": "988bc70b-4af3-4a98-8a06-85b8e346cc87",
   "metadata": {},
   "outputs": [
    {
     "name": "stdout",
     "output_type": "stream",
     "text": [
      "['Pedicularis_alaschanica', 'Pedicularis_aloensis', 'Pedicularis_alopecuros', 'Pedicularis_anas', 'Pedicularis_anas / cheilanthifolia', 'Pedicularis_angustiloba', 'Pedicularis_anthemifolia', 'Pedicularis_armata', 'Pedicularis_axillaris', 'Pedicularis_batangensis', 'Pedicularis_bella', 'Pedicularis_bidentata', 'Pedicularis_binaria', 'Pedicularis_bomiensis', 'Pedicularis_brachycrania', 'Pedicularis_brevilabris', 'Pedicularis_cephalantha', 'Pedicularis_cernua', 'Pedicularis_cheilanthifolia', 'Pedicularis_chenocephala', 'Pedicularis_chinensis', 'Pedicularis_chumbica', 'Pedicularis_cinerascens', 'Pedicularis_comptoniifolia', 'Pedicularis_confertiflora', 'Pedicularis_cranolopha', 'Pedicularis_cristatella', 'Pedicularis_croizatiana', 'Pedicularis_cryptantha', 'Pedicularis_curvituba', 'Pedicularis_cyathophylla', 'Pedicularis_cyathophylloides', 'Pedicularis_daucifolia', 'Pedicularis_davidii', 'Pedicularis_debilis', 'Pedicularis_decora', 'Pedicularis_decorissima', 'Pedicularis_delavayi', 'Pedicularis_densispica', 'Pedicularis_dichotoma', 'Pedicularis_diffusa', 'Pedicularis_dolichocymba', 'Pedicularis_dolichoglossa', 'Pedicularis_dolichosiphon', 'Pedicularis_dunniana', 'Pedicularis_elwesii', 'Pedicularis_fengii', 'Pedicularis_fetisowii', 'Pedicularis_fletcheri', 'Pedicularis_floribunda', 'Pedicularis_fragarioides', 'Pedicularis_galeata', 'Pedicularis_geosiphon', 'Pedicularis_glabrescens', 'Pedicularis_globifera', 'Pedicularis_gracilis', 'Pedicularis_gracilituba', 'Pedicularis_gruina', 'Pedicularis_gyrorhyncha', 'Pedicularis_hemsleyana', 'Pedicularis_inaequilobata', 'Pedicularis_inflexirostris', 'Pedicularis_ingens', 'Pedicularis_integrifolia', 'Pedicularis_kansuensis', 'Pedicularis_labordei', 'Pedicularis_lachnoglossa', 'Pedicularis_laiguensis', 'Pedicularis_lasiophrys', 'Pedicularis_latituba', 'Pedicularis_legendrei', 'Pedicularis_likiangensis', 'Pedicularis_lineata', 'Pedicularis_longicaulis', 'Pedicularis_longiflora', 'Pedicularis_longipes', 'Pedicularis_longistipitata', 'Pedicularis_lophotricha', 'Pedicularis_lutescens', 'Pedicularis_lyrata', 'Pedicularis_macrosiphon', 'Pedicularis_melampyriflora', 'Pedicularis_merrilliana', 'Pedicularis_metaszetschuanica', 'Pedicularis_microchila', 'Pedicularis_microchilae', 'Pedicularis_minima', 'Pedicularis_minutilabris', 'Pedicularis_mollis', 'Pedicularis_monbeigiana', 'Pedicularis_muscoides', 'Pedicularis_mussotii', 'Pedicularis_mychophila', 'Pedicularis_nyalamensis', 'Pedicularis_oederi', 'Pedicularis_oliveriana', 'Pedicularis_orthocoryne', 'Pedicularis_oxycarpa', 'Pedicularis_pectinatiformis', 'Pedicularis_petitmenginii', 'Pedicularis_pheulpinii', 'Pedicularis_pilosa', 'Pedicularis_pilostachya', 'Pedicularis_plicata', 'Pedicularis_polyodonta', 'Pedicularis_praeruptorum', 'Pedicularis_prezewalskii', 'Pedicularis_princeps', 'Pedicularis_przewalskii', 'Pedicularis_pseudocephalantha', 'Pedicularis_pseudoingens', 'Pedicularis_pseudomelampyriflora', 'Pedicularis_ramosissima', 'Pedicularis_recurva', 'Pedicularis_remotiloba', 'Pedicularis_rex', 'Pedicularis_rhinanthoides', 'Pedicularis_rhizomatosa', 'Pedicularis_rhodotricha', 'Pedicularis_rhynchodonta', 'Pedicularis_rhynchotricha', 'Pedicularis_rizhaoensis', 'Pedicularis_rosea', 'Pedicularis_rouergaiensis', 'Pedicularis_roylei', 'Pedicularis_rudis', 'Pedicularis_rupica', 'Pedicularis_rupicola', 'Pedicularis_rupicola cf.', 'Pedicularis_salviiflora', 'Pedicularis_scolopax', 'Pedicularis_semitorta', 'Pedicularis_sigmoidea', 'Pedicularis_siphonantha', 'Pedicularis_smithiana', 'Pedicularis_sorbifolia', 'Pedicularis_souliei', 'Pedicularis_sphaerantha', 'Pedicularis_spicata', 'Pedicularis_steiningeri', 'Pedicularis_stenocorys', 'Pedicularis_streptorhyncha', 'Pedicularis_superba', 'Pedicularis_szetchuanica', 'Pedicularis_szetschuanica', 'Pedicularis_tahaiensis', 'Pedicularis_tantalorhyncha', 'Pedicularis_tatsienensis', 'Pedicularis_tenera', 'Pedicularis_tenuisecta', 'Pedicularis_tenuituba', 'Pedicularis_ternata', 'Pedicularis_thamnophila', 'Pedicularis_tomentosa', 'Pedicularis_tongolensis', 'Pedicularis_torta', 'Pedicularis_triangularidens', 'Pedicularis_trichocymba', 'Pedicularis_trichoglossa', 'Pedicularis_tricolor', 'Pedicularis_tristis', 'Pedicularis_tsarungensis', 'Pedicularis_urceolata', 'Pedicularis_verticillata', 'Pedicularis_vialii', 'Pedicularis_yunnanensis', 'Pedicularis_zayuensis']\n"
     ]
    }
   ],
   "source": [
    "print(sorted(set(bhm_df[\"Binomial\"])))"
   ]
  },
  {
   "cell_type": "markdown",
   "id": "b681b8ef-f8c7-402f-84ac-469c16a6c1b7",
   "metadata": {
    "scrolled": true
   },
   "source": [
    "## Dump results to csv\n",
    "Rename the columns to agree with the names of the other datasets"
   ]
  },
  {
   "cell_type": "code",
   "execution_count": 190,
   "id": "64381cb7-24a4-437c-8d9b-851757b9ba5f",
   "metadata": {},
   "outputs": [],
   "source": [
    "bhm_df.rename(columns={\"long\":\"Longitude\", \n",
    "                        \"lat\":\"Latitude\",\n",
    "                        \"Binomial\":\"Name\"}, inplace=True)\n",
    "\n",
    "bhm_df.to_csv(\"../data/fieldnotes/bhm.net-Pedicularis.csv\", columns=[\"Name\", \"Latitude\", \"Longitude\"], index=False)"
   ]
  }
 ],
 "metadata": {
  "kernelspec": {
   "display_name": "Python 3 (ipykernel)",
   "language": "python",
   "name": "python3"
  },
  "language_info": {
   "codemirror_mode": {
    "name": "ipython",
    "version": 3
   },
   "file_extension": ".py",
   "mimetype": "text/x-python",
   "name": "python",
   "nbconvert_exporter": "python",
   "pygments_lexer": "ipython3",
   "version": "3.11.13"
  }
 },
 "nbformat": 4,
 "nbformat_minor": 5
}
